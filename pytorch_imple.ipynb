{
  "nbformat": 4,
  "nbformat_minor": 0,
  "metadata": {
    "colab": {
      "name": "pytorch_imple",
      "version": "0.3.2",
      "provenance": [],
      "include_colab_link": true
    },
    "kernelspec": {
      "name": "python3",
      "display_name": "Python 3"
    },
    "accelerator": "GPU"
  },
  "cells": [
    {
      "cell_type": "markdown",
      "metadata": {
        "id": "view-in-github",
        "colab_type": "text"
      },
      "source": [
        "<a href=\"https://colab.research.google.com/github/gishnum/Pytorch_implem/blob/master/pytorch_imple.ipynb\" target=\"_parent\"><img src=\"https://colab.research.google.com/assets/colab-badge.svg\" alt=\"Open In Colab\"/></a>"
      ]
    },
    {
      "cell_type": "code",
      "metadata": {
        "id": "iHrk-cqOBasS",
        "colab_type": "code",
        "colab": {
          "base_uri": "https://localhost:8080/",
          "height": 85
        },
        "outputId": "3933b535-cd58-42ba-e92d-2ecbbc97c3e8"
      },
      "source": [
        "! git clone https://github.com/ntrang086/image_captioning.git"
      ],
      "execution_count": 1,
      "outputs": [
        {
          "output_type": "stream",
          "text": [
            "Cloning into 'image_captioning'...\n",
            "remote: Enumerating objects: 77, done.\u001b[K\n",
            "remote: Total 77 (delta 0), reused 0 (delta 0), pack-reused 77\u001b[K\n",
            "Unpacking objects: 100% (77/77), done.\n"
          ],
          "name": "stdout"
        }
      ]
    },
    {
      "cell_type": "code",
      "metadata": {
        "id": "slLZHssgB_GW",
        "colab_type": "code",
        "colab": {}
      },
      "source": [
        "! cd /content/image_captioning/images"
      ],
      "execution_count": 0,
      "outputs": []
    },
    {
      "cell_type": "code",
      "metadata": {
        "id": "lTcaU5AVCDXd",
        "colab_type": "code",
        "colab": {
          "base_uri": "https://localhost:8080/",
          "height": 204
        },
        "outputId": "7f429f82-0009-4a54-8098-2c82f07701af"
      },
      "source": [
        "! wget http://images.cocodataset.org/zips/train2014.zip "
      ],
      "execution_count": 5,
      "outputs": [
        {
          "output_type": "stream",
          "text": [
            "--2019-07-27 15:25:37--  http://images.cocodataset.org/zips/train2014.zip\n",
            "Resolving images.cocodataset.org (images.cocodataset.org)... 52.216.94.211\n",
            "Connecting to images.cocodataset.org (images.cocodataset.org)|52.216.94.211|:80... connected.\n",
            "HTTP request sent, awaiting response... 200 OK\n",
            "Length: 13510573713 (13G) [application/zip]\n",
            "Saving to: ‘train2014.zip’\n",
            "\n",
            "train2014.zip       100%[===================>]  12.58G  17.3MB/s    in 9m 58s  \n",
            "\n",
            "2019-07-27 15:35:36 (21.5 MB/s) - ‘train2014.zip’ saved [13510573713/13510573713]\n",
            "\n"
          ],
          "name": "stdout"
        }
      ]
    },
    {
      "cell_type": "code",
      "metadata": {
        "id": "JBuucSU5E0-w",
        "colab_type": "code",
        "colab": {
          "base_uri": "https://localhost:8080/",
          "height": 204
        },
        "outputId": "399e6300-0e44-4127-932d-f72e2ef77add"
      },
      "source": [
        "! wget http://images.cocodataset.org/zips/val2014.zip"
      ],
      "execution_count": 7,
      "outputs": [
        {
          "output_type": "stream",
          "text": [
            "--2019-07-27 15:36:27--  http://images.cocodataset.org/zips/val2014.zip\n",
            "Resolving images.cocodataset.org (images.cocodataset.org)... 52.216.226.88\n",
            "Connecting to images.cocodataset.org (images.cocodataset.org)|52.216.226.88|:80... connected.\n",
            "HTTP request sent, awaiting response... 200 OK\n",
            "Length: 6645013297 (6.2G) [application/zip]\n",
            "Saving to: ‘val2014.zip’\n",
            "\n",
            "val2014.zip         100%[===================>]   6.19G  62.1MB/s    in 2m 19s  \n",
            "\n",
            "2019-07-27 15:38:47 (45.5 MB/s) - ‘val2014.zip’ saved [6645013297/6645013297]\n",
            "\n"
          ],
          "name": "stdout"
        }
      ]
    },
    {
      "cell_type": "code",
      "metadata": {
        "id": "lHix_qNQFqXM",
        "colab_type": "code",
        "colab": {
          "base_uri": "https://localhost:8080/",
          "height": 102
        },
        "outputId": "4456412f-3693-42dd-e898-f422f3729f07"
      },
      "source": [
        "! git clone https://github.com/cocodataset/cocoapi.git"
      ],
      "execution_count": 10,
      "outputs": [
        {
          "output_type": "stream",
          "text": [
            "Cloning into 'cocoapi'...\n",
            "remote: Enumerating objects: 953, done.\u001b[K\n",
            "remote: Total 953 (delta 0), reused 0 (delta 0), pack-reused 953\u001b[K\n",
            "Receiving objects: 100% (953/953), 11.70 MiB | 24.91 MiB/s, done.\n",
            "Resolving deltas: 100% (565/565), done.\n"
          ],
          "name": "stdout"
        }
      ]
    },
    {
      "cell_type": "code",
      "metadata": {
        "id": "tQZgu0M8F6xb",
        "colab_type": "code",
        "colab": {
          "base_uri": "https://localhost:8080/",
          "height": 34
        },
        "outputId": "e030fef8-cb7f-4345-dcb1-caa731a9211f"
      },
      "source": [
        "pwd"
      ],
      "execution_count": 26,
      "outputs": [
        {
          "output_type": "execute_result",
          "data": {
            "text/plain": [
              "'/content/image_captioning/cocoapi/annotations'"
            ]
          },
          "metadata": {
            "tags": []
          },
          "execution_count": 26
        }
      ]
    },
    {
      "cell_type": "code",
      "metadata": {
        "id": "3_HMNFm3Gv3p",
        "colab_type": "code",
        "colab": {
          "base_uri": "https://localhost:8080/",
          "height": 204
        },
        "outputId": "ed9ac127-d87e-48d7-a2ec-9df03392f8a4"
      },
      "source": [
        "! wget http://images.cocodataset.org/annotations/annotations_trainval2014.zip"
      ],
      "execution_count": 27,
      "outputs": [
        {
          "output_type": "stream",
          "text": [
            "--2019-07-27 15:45:01--  http://images.cocodataset.org/annotations/annotations_trainval2014.zip\n",
            "Resolving images.cocodataset.org (images.cocodataset.org)... 52.216.102.19\n",
            "Connecting to images.cocodataset.org (images.cocodataset.org)|52.216.102.19|:80... connected.\n",
            "HTTP request sent, awaiting response... 200 OK\n",
            "Length: 252872794 (241M) [application/zip]\n",
            "Saving to: ‘annotations_trainval2014.zip’\n",
            "\n",
            "annotations_trainva 100%[===================>] 241.16M  48.2MB/s    in 4.7s    \n",
            "\n",
            "2019-07-27 15:45:06 (51.7 MB/s) - ‘annotations_trainval2014.zip’ saved [252872794/252872794]\n",
            "\n"
          ],
          "name": "stdout"
        }
      ]
    },
    {
      "cell_type": "code",
      "metadata": {
        "id": "lAMIep_QG34N",
        "colab_type": "code",
        "colab": {
          "base_uri": "https://localhost:8080/",
          "height": 204
        },
        "outputId": "32d7f6e2-79a7-4452-8c55-7416eb0a175c"
      },
      "source": [
        "! wget http://images.cocodataset.org/annotations/image_info_test2014.zip"
      ],
      "execution_count": 28,
      "outputs": [
        {
          "output_type": "stream",
          "text": [
            "--2019-07-27 15:45:23--  http://images.cocodataset.org/annotations/image_info_test2014.zip\n",
            "Resolving images.cocodataset.org (images.cocodataset.org)... 52.216.105.99\n",
            "Connecting to images.cocodataset.org (images.cocodataset.org)|52.216.105.99|:80... connected.\n",
            "HTTP request sent, awaiting response... 200 OK\n",
            "Length: 763464 (746K) [application/zip]\n",
            "Saving to: ‘image_info_test2014.zip’\n",
            "\n",
            "\rimage_info_test2014   0%[                    ]       0  --.-KB/s               \rimage_info_test2014 100%[===================>] 745.57K  4.52MB/s    in 0.2s    \n",
            "\n",
            "2019-07-27 15:45:24 (4.52 MB/s) - ‘image_info_test2014.zip’ saved [763464/763464]\n",
            "\n"
          ],
          "name": "stdout"
        }
      ]
    },
    {
      "cell_type": "code",
      "metadata": {
        "id": "CiNzmrq5G8Md",
        "colab_type": "code",
        "colab": {
          "base_uri": "https://localhost:8080/",
          "height": 204
        },
        "outputId": "4808e1f2-23ef-497b-83ff-fc5f1916b8d1"
      },
      "source": [
        "! wget http://images.cocodataset.org/annotations/image_info_test2015.zip"
      ],
      "execution_count": 29,
      "outputs": [
        {
          "output_type": "stream",
          "text": [
            "--2019-07-27 15:48:25--  http://images.cocodataset.org/annotations/image_info_test2015.zip\n",
            "Resolving images.cocodataset.org (images.cocodataset.org)... 52.216.107.236\n",
            "Connecting to images.cocodataset.org (images.cocodataset.org)|52.216.107.236|:80... connected.\n",
            "HTTP request sent, awaiting response... 200 OK\n",
            "Length: 1887164 (1.8M) [application/zip]\n",
            "Saving to: ‘image_info_test2015.zip’\n",
            "\n",
            "\rimage_info_test2015   0%[                    ]       0  --.-KB/s               \rimage_info_test2015  86%[================>   ]   1.56M  7.78MB/s               \rimage_info_test2015 100%[===================>]   1.80M  8.15MB/s    in 0.2s    \n",
            "\n",
            "2019-07-27 15:48:26 (8.15 MB/s) - ‘image_info_test2015.zip’ saved [1887164/1887164]\n",
            "\n"
          ],
          "name": "stdout"
        }
      ]
    },
    {
      "cell_type": "code",
      "metadata": {
        "id": "u7x3PBN8HocN",
        "colab_type": "code",
        "colab": {}
      },
      "source": [
        "mv train2014.zip /content/image_captioning/cocoapi/images"
      ],
      "execution_count": 0,
      "outputs": []
    },
    {
      "cell_type": "code",
      "metadata": {
        "id": "u8QFqNRDInup",
        "colab_type": "code",
        "colab": {}
      },
      "source": [
        "mv val2014.zip /content/image_captioning/cocoapi/images"
      ],
      "execution_count": 0,
      "outputs": []
    },
    {
      "cell_type": "code",
      "metadata": {
        "id": "z4UykImZRrTz",
        "colab_type": "code",
        "colab": {}
      },
      "source": [
        "! rm -rf train2014"
      ],
      "execution_count": 0,
      "outputs": []
    },
    {
      "cell_type": "code",
      "metadata": {
        "id": "1A5r7EwvTgq2",
        "colab_type": "code",
        "colab": {
          "base_uri": "https://localhost:8080/",
          "height": 34
        },
        "outputId": "aafa1abb-c1f7-4239-cd8b-ee6e8a10cf3f"
      },
      "source": [
        "ls"
      ],
      "execution_count": 81,
      "outputs": [
        {
          "output_type": "stream",
          "text": [
            "train2014.zip  val2014.zip\n"
          ],
          "name": "stdout"
        }
      ]
    },
    {
      "cell_type": "code",
      "metadata": {
        "id": "nVcJXHAATkBv",
        "colab_type": "code",
        "colab": {
          "base_uri": "https://localhost:8080/",
          "height": 204
        },
        "outputId": "28e1ab04-4111-460d-a972-d13afd43dcc6"
      },
      "source": [
        "! wget http://images.cocodataset.org/zips/test2014.zip"
      ],
      "execution_count": 82,
      "outputs": [
        {
          "output_type": "stream",
          "text": [
            "--2019-07-27 16:41:00--  http://images.cocodataset.org/zips/test2014.zip\n",
            "Resolving images.cocodataset.org (images.cocodataset.org)... 52.216.227.72\n",
            "Connecting to images.cocodataset.org (images.cocodataset.org)|52.216.227.72|:80... connected.\n",
            "HTTP request sent, awaiting response... 200 OK\n",
            "Length: 6660437059 (6.2G) [application/zip]\n",
            "Saving to: ‘test2014.zip’\n",
            "\n",
            "test2014.zip        100%[===================>]   6.20G  53.0MB/s    in 2m 17s  \n",
            "\n",
            "2019-07-27 16:43:17 (46.5 MB/s) - ‘test2014.zip’ saved [6660437059/6660437059]\n",
            "\n"
          ],
          "name": "stdout"
        }
      ]
    },
    {
      "cell_type": "code",
      "metadata": {
        "id": "XsAVL4nHTkFX",
        "colab_type": "code",
        "colab": {}
      },
      "source": [
        ""
      ],
      "execution_count": 0,
      "outputs": []
    }
  ]
}